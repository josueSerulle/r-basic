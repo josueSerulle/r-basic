{
 "cells": [
  {
   "cell_type": "markdown",
   "id": "aaef7c58-6e7b-4f40-855d-a565a158410c",
   "metadata": {},
   "source": [
    "# Ejercicio completo de Data Frames"
   ]
  },
  {
   "cell_type": "code",
   "execution_count": 4,
   "id": "a0bf07ce-a680-4357-94ae-8305abe85aea",
   "metadata": {},
   "outputs": [],
   "source": [
    "import pandas as pd"
   ]
  },
  {
   "cell_type": "code",
   "execution_count": 28,
   "id": "60f5e6cc-b904-491d-993e-255bd957e785",
   "metadata": {},
   "outputs": [
    {
     "data": {
      "text/html": [
       "<div>\n",
       "<style scoped>\n",
       "    .dataframe tbody tr th:only-of-type {\n",
       "        vertical-align: middle;\n",
       "    }\n",
       "\n",
       "    .dataframe tbody tr th {\n",
       "        vertical-align: top;\n",
       "    }\n",
       "\n",
       "    .dataframe thead th {\n",
       "        text-align: right;\n",
       "    }\n",
       "</style>\n",
       "<table border=\"1\" class=\"dataframe\">\n",
       "  <thead>\n",
       "    <tr style=\"text-align: right;\">\n",
       "      <th></th>\n",
       "      <th>Unnamed: 0</th>\n",
       "      <th>pulso.antes</th>\n",
       "      <th>pulso.despues</th>\n",
       "      <th>hace.deporte</th>\n",
       "      <th>fuma</th>\n",
       "      <th>genero</th>\n",
       "      <th>altura</th>\n",
       "      <th>peso</th>\n",
       "      <th>tipo.actividad</th>\n",
       "    </tr>\n",
       "  </thead>\n",
       "  <tbody>\n",
       "    <tr>\n",
       "      <th>0</th>\n",
       "      <td>1</td>\n",
       "      <td>48</td>\n",
       "      <td>54</td>\n",
       "      <td>no</td>\n",
       "      <td>si</td>\n",
       "      <td>H</td>\n",
       "      <td>68.0</td>\n",
       "      <td>150</td>\n",
       "      <td>nula</td>\n",
       "    </tr>\n",
       "    <tr>\n",
       "      <th>1</th>\n",
       "      <td>2</td>\n",
       "      <td>54</td>\n",
       "      <td>56</td>\n",
       "      <td>no</td>\n",
       "      <td>si</td>\n",
       "      <td>H</td>\n",
       "      <td>69.0</td>\n",
       "      <td>145</td>\n",
       "      <td>moderada</td>\n",
       "    </tr>\n",
       "    <tr>\n",
       "      <th>2</th>\n",
       "      <td>3</td>\n",
       "      <td>54</td>\n",
       "      <td>50</td>\n",
       "      <td>no</td>\n",
       "      <td>no</td>\n",
       "      <td>H</td>\n",
       "      <td>69.0</td>\n",
       "      <td>160</td>\n",
       "      <td>moderada</td>\n",
       "    </tr>\n",
       "    <tr>\n",
       "      <th>3</th>\n",
       "      <td>4</td>\n",
       "      <td>58</td>\n",
       "      <td>70</td>\n",
       "      <td>si</td>\n",
       "      <td>no</td>\n",
       "      <td>H</td>\n",
       "      <td>72.0</td>\n",
       "      <td>145</td>\n",
       "      <td>moderada</td>\n",
       "    </tr>\n",
       "    <tr>\n",
       "      <th>4</th>\n",
       "      <td>5</td>\n",
       "      <td>58</td>\n",
       "      <td>58</td>\n",
       "      <td>no</td>\n",
       "      <td>no</td>\n",
       "      <td>H</td>\n",
       "      <td>66.0</td>\n",
       "      <td>135</td>\n",
       "      <td>intensa</td>\n",
       "    </tr>\n",
       "    <tr>\n",
       "      <th>...</th>\n",
       "      <td>...</td>\n",
       "      <td>...</td>\n",
       "      <td>...</td>\n",
       "      <td>...</td>\n",
       "      <td>...</td>\n",
       "      <td>...</td>\n",
       "      <td>...</td>\n",
       "      <td>...</td>\n",
       "      <td>...</td>\n",
       "    </tr>\n",
       "    <tr>\n",
       "      <th>87</th>\n",
       "      <td>88</td>\n",
       "      <td>92</td>\n",
       "      <td>94</td>\n",
       "      <td>no</td>\n",
       "      <td>si</td>\n",
       "      <td>H</td>\n",
       "      <td>69.0</td>\n",
       "      <td>150</td>\n",
       "      <td>moderada</td>\n",
       "    </tr>\n",
       "    <tr>\n",
       "      <th>88</th>\n",
       "      <td>89</td>\n",
       "      <td>94</td>\n",
       "      <td>92</td>\n",
       "      <td>no</td>\n",
       "      <td>si</td>\n",
       "      <td>M</td>\n",
       "      <td>62.0</td>\n",
       "      <td>131</td>\n",
       "      <td>moderada</td>\n",
       "    </tr>\n",
       "    <tr>\n",
       "      <th>89</th>\n",
       "      <td>90</td>\n",
       "      <td>96</td>\n",
       "      <td>140</td>\n",
       "      <td>si</td>\n",
       "      <td>no</td>\n",
       "      <td>M</td>\n",
       "      <td>61.0</td>\n",
       "      <td>140</td>\n",
       "      <td>moderada</td>\n",
       "    </tr>\n",
       "    <tr>\n",
       "      <th>90</th>\n",
       "      <td>91</td>\n",
       "      <td>96</td>\n",
       "      <td>116</td>\n",
       "      <td>si</td>\n",
       "      <td>no</td>\n",
       "      <td>M</td>\n",
       "      <td>68.0</td>\n",
       "      <td>116</td>\n",
       "      <td>moderada</td>\n",
       "    </tr>\n",
       "    <tr>\n",
       "      <th>91</th>\n",
       "      <td>92</td>\n",
       "      <td>100</td>\n",
       "      <td>115</td>\n",
       "      <td>si</td>\n",
       "      <td>si</td>\n",
       "      <td>M</td>\n",
       "      <td>63.0</td>\n",
       "      <td>121</td>\n",
       "      <td>moderada</td>\n",
       "    </tr>\n",
       "  </tbody>\n",
       "</table>\n",
       "<p>92 rows × 9 columns</p>\n",
       "</div>"
      ],
      "text/plain": [
       "    Unnamed: 0  pulso.antes  pulso.despues hace.deporte fuma genero  altura  \\\n",
       "0            1           48             54           no   si      H    68.0   \n",
       "1            2           54             56           no   si      H    69.0   \n",
       "2            3           54             50           no   no      H    69.0   \n",
       "3            4           58             70           si   no      H    72.0   \n",
       "4            5           58             58           no   no      H    66.0   \n",
       "..         ...          ...            ...          ...  ...    ...     ...   \n",
       "87          88           92             94           no   si      H    69.0   \n",
       "88          89           94             92           no   si      M    62.0   \n",
       "89          90           96            140           si   no      M    61.0   \n",
       "90          91           96            116           si   no      M    68.0   \n",
       "91          92          100            115           si   si      M    63.0   \n",
       "\n",
       "    peso tipo.actividad  \n",
       "0    150           nula  \n",
       "1    145       moderada  \n",
       "2    160       moderada  \n",
       "3    145       moderada  \n",
       "4    135        intensa  \n",
       "..   ...            ...  \n",
       "87   150       moderada  \n",
       "88   131       moderada  \n",
       "89   140       moderada  \n",
       "90   116       moderada  \n",
       "91   121       moderada  \n",
       "\n",
       "[92 rows x 9 columns]"
      ]
     },
     "execution_count": 28,
     "metadata": {},
     "output_type": "execute_result"
    }
   ],
   "source": [
    "df = pd.read_csv(\"../data/run.csv\")\n",
    "df"
   ]
  },
  {
   "cell_type": "markdown",
   "id": "7851ca44-9c15-4dfa-bd55-043970a939c0",
   "metadata": {},
   "source": [
    "## Pregunta 1\r",
    "Indica cuántos estudiantes formaron parte del estudio de deporte"
   ]
  },
  {
   "cell_type": "code",
   "execution_count": 12,
   "id": "1e377764-5d16-404c-9a78-1073ae7127fa",
   "metadata": {},
   "outputs": [
    {
     "name": "stdout",
     "output_type": "stream",
     "text": [
      "Número de estudiantes: 92\n"
     ]
    }
   ],
   "source": [
    "print(f\"Número de estudiantes: {len(df)}\")"
   ]
  },
  {
   "cell_type": "markdown",
   "id": "d06c96e2-71d6-4273-8b91-f350b1482bc9",
   "metadata": {},
   "source": [
    "## Pregunta 2\n",
    "\n",
    "Indica cuántos individuos son hombres y cuántos son mujeres."
   ]
  },
  {
   "cell_type": "code",
   "execution_count": 21,
   "id": "d5d83117-871f-4857-bfa5-31fb081ad67b",
   "metadata": {},
   "outputs": [
    {
     "name": "stdout",
     "output_type": "stream",
     "text": [
      "genero\n",
      "H    57\n",
      "M    35\n",
      "Name: count, dtype: int64\n"
     ]
    }
   ],
   "source": [
    "accounts_sex = df['genero'].value_counts()\n",
    "print(accounts_sex)"
   ]
  },
  {
   "cell_type": "markdown",
   "id": "302fd567-367d-400d-8acd-de77dd6cb8e1",
   "metadata": {},
   "source": [
    "## Pregunta 3\n",
    "\n",
    "Calcula el porcentaje medio de variación del pulso por minuto entre antes y después de hacer ejercicio y\r\n",
    "compara el valor de los que hacen ejercicio habitualmente y los que no. ¿Observas mucha diferencia?"
   ]
  },
  {
   "cell_type": "code",
   "execution_count": 51,
   "id": "371997de-c4c3-4e60-b2d1-a6af3565842d",
   "metadata": {},
   "outputs": [
    {
     "data": {
      "text/plain": [
       "hace.deporte\n",
       "no     0.209479\n",
       "si    26.215407\n",
       "Name: PMV, dtype: float64"
      ]
     },
     "execution_count": 51,
     "metadata": {},
     "output_type": "execute_result"
    }
   ],
   "source": [
    "df[\"PMV\"] = ((df[\"pulso.despues\"] - df[\"pulso.antes\"]) / df[\"pulso.antes\"]) * 100\n",
    "\n",
    "df.groupby(\"hace.deporte\")[\"PMV\"].mean()"
   ]
  },
  {
   "cell_type": "markdown",
   "id": "25ca79fe-31d8-4c1f-be02-60daa332b44d",
   "metadata": {},
   "source": [
    "## Pregunta 4\n",
    "\n",
    "Calcula el porcentaje medio de variación del pulso por minuto entre antes y después de hacer ejercicio para\r\n",
    "los estudiantes que hacen ejercicio habitualmente y compara el valor de los hombres con el de las mujeres.\r\n",
    "¿Observas mucha diferencia?"
   ]
  },
  {
   "cell_type": "code",
   "execution_count": 54,
   "id": "d49a2d10-1c65-45eb-8c5a-1b95c0a317ae",
   "metadata": {},
   "outputs": [
    {
     "data": {
      "text/plain": [
       "genero\n",
       "H    19.176886\n",
       "M    41.572181\n",
       "Name: PMV, dtype: float64"
      ]
     },
     "execution_count": 54,
     "metadata": {},
     "output_type": "execute_result"
    }
   ],
   "source": [
    "df[df[\"hace.deporte\"] == \"si\"].groupby(\"genero\")[\"PMV\"].mean()"
   ]
  },
  {
   "cell_type": "markdown",
   "id": "1525bc55-05c6-4d38-b044-e0c72da1009f",
   "metadata": {},
   "source": [
    "## Pregunta 5\n",
    "\n",
    "Calcula el porcentaje medio de variación del pulso por minuto entre antes y después de hacer ejercicio para los\r\n",
    "estudiantes que no hacen ejercicio habitualmente y compara el valor de los fumadores con los no fumadores.\r\n",
    "¿Observas mucha diferencia?"
   ]
  },
  {
   "cell_type": "code",
   "execution_count": 56,
   "id": "6078ac3a-1291-4784-8706-858d4ea85867",
   "metadata": {},
   "outputs": [
    {
     "data": {
      "text/plain": [
       "fuma\n",
       "no   -0.064761\n",
       "si    0.912219\n",
       "Name: PMV, dtype: float64"
      ]
     },
     "execution_count": 56,
     "metadata": {},
     "output_type": "execute_result"
    }
   ],
   "source": [
    "df[df[\"hace.deporte\"] == \"no\"].groupby(\"fuma\")[\"PMV\"].mean()"
   ]
  },
  {
   "cell_type": "markdown",
   "id": "1f7bd7e3-cc06-4409-b670-77b827272f4f",
   "metadata": {},
   "source": [
    "## Pregunta 6\n",
    "\n",
    "Calcula el porcentaje medio de variación del pulso por minuto entre antes y después de hacer ejercicio de\n",
    "todos los estudiantes según el tipo de actividad física que realizan. ¿Observas alguna diferencia?"
   ]
  },
  {
   "cell_type": "code",
   "execution_count": 59,
   "id": "1b3db610-15fb-4431-8bdf-37df82fe122e",
   "metadata": {},
   "outputs": [
    {
     "data": {
      "text/plain": [
       "tipo.actividad\n",
       "intensa      1.347475\n",
       "moderada    14.015695\n",
       "nula        12.500000\n",
       "suave        3.747241\n",
       "Name: PMV, dtype: float64"
      ]
     },
     "execution_count": 59,
     "metadata": {},
     "output_type": "execute_result"
    }
   ],
   "source": [
    "df.groupby(\"tipo.actividad\")[\"PMV\"].mean()"
   ]
  },
  {
   "cell_type": "code",
   "execution_count": null,
   "id": "21d9ccef-d3b8-4480-8052-2ff3ae0e68f1",
   "metadata": {},
   "outputs": [],
   "source": []
  }
 ],
 "metadata": {
  "kernelspec": {
   "display_name": "Python 3 (ipykernel)",
   "language": "python",
   "name": "python3"
  },
  "language_info": {
   "codemirror_mode": {
    "name": "ipython",
    "version": 3
   },
   "file_extension": ".py",
   "mimetype": "text/x-python",
   "name": "python",
   "nbconvert_exporter": "python",
   "pygments_lexer": "ipython3",
   "version": "3.12.4"
  }
 },
 "nbformat": 4,
 "nbformat_minor": 5
}
