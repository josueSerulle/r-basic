{
 "cells": [
  {
   "cell_type": "markdown",
   "id": "9d7f4b36-0c53-4172-9eeb-1a22230087c9",
   "metadata": {},
   "source": [
    "Crea una función que reciba los tres coeficientes a, b y c para resolver una ecuación de segundo grado.\r\n",
    "Muestra la solución por pantalla y ayúdate de la librería math para acceder a la función raíz cuadrada."
   ]
  },
  {
   "cell_type": "code",
   "execution_count": 5,
   "id": "f39e21c5-5c3b-404e-8289-1da1819595b2",
   "metadata": {},
   "outputs": [
    {
     "name": "stdout",
     "output_type": "stream",
     "text": [
      "The solutions are real and distinct: x1 = 2.0, x2 = 1.0\n"
     ]
    }
   ],
   "source": [
    "import math\n",
    "\n",
    "def solve_quadratic_equation(a, b, c):\n",
    "    if a == 0:\n",
    "        print(\"This is not a equadractic equation.\")\n",
    "        return\n",
    "\n",
    "    discrminant = b**2 - 4*a*c\n",
    "\n",
    "    if discrminant > 0:\n",
    "        x1 = (-b + math.sqrt(discrminant)) / (2*a)\n",
    "        x2 = (-b - math.sqrt(discrminant)) / (2*a)\n",
    "        print(f\"The solutions are real and distinct: x1 = {x1}, x2 = {x2}\")\n",
    "    elif discriminant == 0:\n",
    "        x = -b / (2*a)\n",
    "        print(f\"The solution is real and repeated: x = {x}\")\n",
    "    else:\n",
    "        real_part = -b / (2*a)\n",
    "        imaginary_part = math.sqrt(-discriminant) / (2*a)\n",
    "        print(f\"The solutions are complex: x1 = {real_part} + {imaginary_part}i, x2 = {real_part} - {imaginary_part}i\")\n",
    "\n",
    "solve_quadratic_equation(1, -3, 2)"
   ]
  },
  {
   "cell_type": "markdown",
   "id": "6111476f-0117-4c0b-a145-bf13bce893f1",
   "metadata": {},
   "source": [
    "Crea una función que lea una frase de teclado y nos diga si es o no un palíndromo (frase que se lee igual de\r\n",
    "izquierda a derecha o al revés como por ejemplo “La ruta nos aportó otro paso natural”)."
   ]
  },
  {
   "cell_type": "code",
   "execution_count": null,
   "id": "e4cd1cf7-4e7e-4639-a305-c663e1b71028",
   "metadata": {},
   "outputs": [],
   "source": [
    "def is_palindrome():\n",
    "    phrase = input(\"Enter a phrase: \")\n",
    "\n",
    "    normalized = \"\".join(char.lower() for char in phrase if char.isalnum())\n",
    "\n",
    "    if normalized == normalized[:: -1]:\n",
    "        print(\"The phrase is a palindrome.\")\n",
    "    else:\n",
    "        print(\"The phrase is not a palindorme.\")\n",
    "\n",
    "is_palindrome()"
   ]
  },
  {
   "cell_type": "markdown",
   "id": "ec8b1501-f2f4-42d7-93d3-e0af0ffde8e5",
   "metadata": {},
   "source": [
    "Crea un diccionario que tenga por claves los números del 1 al 10 y como valores sus raíces cuadradas."
   ]
  },
  {
   "cell_type": "code",
   "execution_count": 14,
   "id": "609ff647-5497-4e45-9c1d-f0ffedcd5620",
   "metadata": {},
   "outputs": [
    {
     "name": "stdout",
     "output_type": "stream",
     "text": [
      "{1: 1.0, 2: 1.4142135623730951, 3: 1.7320508075688772, 4: 2.0, 5: 2.23606797749979, 6: 2.449489742783178, 7: 2.6457513110645907, 8: 2.8284271247461903, 9: 3.0, 10: 3.1622776601683795}\n"
     ]
    }
   ],
   "source": [
    "import math\n",
    "\n",
    "square_roots = {n : math.sqrt(n) for n in range(1,11)}\n",
    "\n",
    "print(square_roots)"
   ]
  },
  {
   "cell_type": "markdown",
   "id": "3109f54d-9efc-41fd-8a9b-bb16aa2069c2",
   "metadata": {},
   "source": [
    "Crea un diccionario que tenga como claves las letras del alfabeto castellano y como valores los símbolos del\r\n",
    "código morse (los tienes todos en la Wikipedia). A continuación crea una función que lea una frase del\r\n",
    "teclado y te la convierta a morse utilizando el diccionario anterior.\r"
   ]
  },
  {
   "cell_type": "markdown",
   "id": "ccf63bfd-ad3e-4389-b31c-3de412ab939e",
   "metadata": {},
   "source": [
    "def text_to_morse():\n",
    "    morse_dict = {\n",
    "        'A': '.-',     'B': '-...',   'C': '-.-.',   'D': '-..',    'E': '.',\n",
    "        'F': '..-.',   'G': '--.',    'H': '....',   'I': '..',     'J': '.---',\n",
    "        'K': '-.-',    'L': '.-..',   'M': '--',     'N': '-.',     'Ñ': '--.--',\n",
    "        'O': '---',    'P': '.--.',   'Q': '--.-',   'R': '.-.',    'S': '...',\n",
    "        'T': '-',      'U': '..-',    'V': '...-',   'W': '.--',    'X': '-..-',\n",
    "        'Y': '-.--',   'Z': '--..',   '0': '-----',  '1': '.----',  '2': '..---',\n",
    "        '3': '...--',  '4': '....-',  '5': '.....',  '6': '-....',  '7': '--...',\n",
    "        '8': '---..',  '9': '----.'\n",
    "    }\n",
    "\n",
    "    phrase = input(\"Enter a phrase: \")\n",
    "\n",
    "    morse_translation = []\n",
    "\n",
    "    for char in phrase.upper():\n",
    "        if char == \" \":\n",
    "            morse_translation.append(\" / \")\n",
    "        elif char in morse_dict:\n",
    "            morse_translation.append(morse_dict[char])\n",
    "        else:\n",
    "             morse_translation.append('?')\n",
    "\n",
    "    print(' '.join(morse_translation))\n",
    "\n",
    "text_to_morse()"
   ]
  },
  {
   "cell_type": "markdown",
   "id": "37bf1bb3-cc23-40ce-83ba-f61a245e65b2",
   "metadata": {},
   "source": [
    "Crea una función que dados dos diccionarios nos diga qué claves están presentes en ambos.\r"
   ]
  },
  {
   "cell_type": "code",
   "execution_count": 36,
   "id": "b9d03961-2f26-4566-be51-5a27e260bdb6",
   "metadata": {},
   "outputs": [
    {
     "name": "stdout",
     "output_type": "stream",
     "text": [
      "Common keys:  {'age', 'city'}\n"
     ]
    }
   ],
   "source": [
    "def common_keys(dict1, dict2):\n",
    "    common = set(dict1.keys()) & set(dict2.keys())\n",
    "\n",
    "    print(\"Common keys: \", common)\n",
    "\n",
    "d1 = {\"name\": \"Alice\", \"age\": 25, \"city\": \"Madrid\"}\n",
    "d2 = {\"age\": 30, \"city\": \"Barcelona\", \"country\": \"Spain\"}\n",
    "\n",
    "common_keys(d1, d2)"
   ]
  },
  {
   "cell_type": "code",
   "execution_count": null,
   "id": "44033b55-4b3b-43fc-8517-60d7f667f242",
   "metadata": {},
   "outputs": [],
   "source": [
    "Crea una función que dado un número N nos diga si es primo o no (tiene que ir dividiendo por todos los\n",
    "números x comprendidos entre 2 y el número N − 1 y ver si la división de N\n",
    "x\n",
    "tiene resto cero o no)."
   ]
  },
  {
   "cell_type": "code",
   "execution_count": 20,
   "id": "8492e467-8df3-45e2-b903-ee403f9efdad",
   "metadata": {},
   "outputs": [
    {
     "name": "stdout",
     "output_type": "stream",
     "text": [
      "7 is a prime number.\n",
      "10 is not a prime number. It is divisible by 2.\n"
     ]
    },
    {
     "data": {
      "text/plain": [
       "False"
      ]
     },
     "execution_count": 20,
     "metadata": {},
     "output_type": "execute_result"
    }
   ],
   "source": [
    "def is_prime(n):\n",
    "    if n <= 1:\n",
    "        print(f\"{n} is not a prime NUmber.\")\n",
    "        return False\n",
    "\n",
    "    for x in range(2, n):\n",
    "        if n % x == 0:\n",
    "            print(f\"{n} is not a prime number. It is divisible by {x}.\")\n",
    "            return False\n",
    "\n",
    "    print(f\"{n} is a prime number.\")\n",
    "    return True\n",
    "\n",
    "is_prime(7)\n",
    "is_prime(10)"
   ]
  },
  {
   "cell_type": "markdown",
   "id": "60ddb25f-8520-4b9d-990f-084117baa7fe",
   "metadata": {},
   "source": [
    "Investiga la documentación de la clase string y crea un método que lea una frase del teclado y escriba la\r\n",
    "primera letra de cada palabra en Mayúscula.\r"
   ]
  },
  {
   "cell_type": "code",
   "execution_count": null,
   "id": "6e3c6c93-339b-485c-b389-0af39c0b6929",
   "metadata": {},
   "outputs": [],
   "source": [
    "def capitalize_each_word():\n",
    "    phrase = input(\"Enter a phrase: \")\n",
    "    print(\"Capitalized phrase: \", phrase.title())\n",
    "\n",
    "capitalize_each_word()"
   ]
  },
  {
   "cell_type": "markdown",
   "id": "fd28b11c-2990-4cbe-8ddc-8bbe14f4d9c3",
   "metadata": {},
   "source": [
    "Crea una función que calcule el máximo común divisor de dos números introducidos por el usuario por\r\n",
    "teclado."
   ]
  },
  {
   "cell_type": "code",
   "execution_count": 26,
   "id": "2bf6eeb2-0905-4641-bd04-29ec2b1bb388",
   "metadata": {},
   "outputs": [
    {
     "name": "stdin",
     "output_type": "stream",
     "text": [
      "Enter the first number:  2\n",
      "Enter the second number:  10\n"
     ]
    },
    {
     "name": "stdout",
     "output_type": "stream",
     "text": [
      "The greatest common divisor is: 2\n"
     ]
    }
   ],
   "source": [
    "def calculate_gcd():\n",
    "    a = int(input(\"Enter the first number: \"))\n",
    "    b = int(input(\"Enter the second number: \"))\n",
    "\n",
    "    while b != 0:\n",
    "        a, b = b, a % b\n",
    "\n",
    "    print(f\"The greatest common divisor is: {a}\")\n",
    "\n",
    "calculate_gcd()"
   ]
  },
  {
   "cell_type": "markdown",
   "id": "d09447cc-86f4-41be-8b8f-49985f621fa7",
   "metadata": {},
   "source": [
    "Investiga el Cifrado del César y crea una función que lo reproduzca en Python. Cada letra del mensaje\n",
    "original se desplaza tres posiciones en el alfabeto estándar. La A se convierte en la D, la B se convierte en la\n",
    "E, la C se convierte en la F. . . y cuando se acaba el alfabeto se le vuelve a dar la vuelta: la X se convierte\n",
    "en la A, la Y en la B y la X en la C. Los números no sufren ninguna modificación."
   ]
  },
  {
   "cell_type": "code",
   "execution_count": 32,
   "id": "acd76595-3837-4bab-a1ef-05104d074c17",
   "metadata": {},
   "outputs": [
    {
     "name": "stdin",
     "output_type": "stream",
     "text": [
      "Enter a message to encrypt:  hola\n"
     ]
    },
    {
     "name": "stdout",
     "output_type": "stream",
     "text": [
      "Encrypted message: krod\n"
     ]
    }
   ],
   "source": [
    "def caesar_cipher():\n",
    "    text = input(\"Enter a message to encrypt: \")\n",
    "    shift = 3\n",
    "    result = \"\"\n",
    "\n",
    "    for char in text:\n",
    "        if char.isalpha():\n",
    "            base = ord(\"A\") if char.isupper() else ord(\"a\")\n",
    "            shifted = chr((ord(char) - base + shift) % 26 + base)\n",
    "            result += shifted\n",
    "        else:\n",
    "            result += char\n",
    "\n",
    "    print(\"Encrypted message:\", result)\n",
    "\n",
    "caesar_cipher()"
   ]
  },
  {
   "cell_type": "markdown",
   "id": "a8c7781b-a698-4209-87ad-f6a3fc52e9c6",
   "metadata": {},
   "source": [
    "Dado una lista de nombres de persona, escribe una función que los ordene de tres formas diferentes:\n",
    "A. De forma alfabética\n",
    "B. De forma alfabética invertida\n",
    "C. De nombre más corto al más largo."
   ]
  },
  {
   "cell_type": "code",
   "execution_count": 34,
   "id": "d345186e-aec4-4c74-9a77-21d8cea73ceb",
   "metadata": {},
   "outputs": [
    {
     "name": "stdout",
     "output_type": "stream",
     "text": [
      "A - Alphabetical order:\n",
      "['Ana', 'John', 'Lucia', 'Martina', 'Peter', 'Zoe']\n",
      "\n",
      "B - Reverse alphabetical order:\n",
      "['Zoe', 'Peter', 'Martina', 'Lucia', 'John', 'Ana']\n",
      "\n",
      "C - From shortest to longest name:\n",
      "['Ana', 'Zoe', 'John', 'Lucia', 'Peter', 'Martina']\n"
     ]
    }
   ],
   "source": [
    "def sort_names(names):\n",
    "    print(\"A - Alphabetical order:\")\n",
    "    print(sorted(names))\n",
    "\n",
    "    print(\"\\nB - Reverse alphabetical order:\")\n",
    "    print(sorted(names, reverse=True))\n",
    "\n",
    "    print(\"\\nC - From shortest to longest name:\")\n",
    "    print(sorted(names, key=len))\n",
    "\n",
    "name_list = [\"Ana\", \"John\", \"Lucia\", \"Peter\", \"Zoe\", \"Martina\"]\n",
    "sort_names(name_list)"
   ]
  },
  {
   "cell_type": "code",
   "execution_count": null,
   "id": "cf39bfe7-4f22-43f8-a100-cfe8a0043672",
   "metadata": {},
   "outputs": [],
   "source": []
  }
 ],
 "metadata": {
  "kernelspec": {
   "display_name": "Python 3 (ipykernel)",
   "language": "python",
   "name": "python3"
  },
  "language_info": {
   "codemirror_mode": {
    "name": "ipython",
    "version": 3
   },
   "file_extension": ".py",
   "mimetype": "text/x-python",
   "name": "python",
   "nbconvert_exporter": "python",
   "pygments_lexer": "ipython3",
   "version": "3.12.4"
  }
 },
 "nbformat": 4,
 "nbformat_minor": 5
}
